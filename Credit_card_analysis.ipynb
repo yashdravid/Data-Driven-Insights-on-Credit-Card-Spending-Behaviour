{
 "cells": [
  {
   "cell_type": "markdown",
   "metadata": {},
   "source": [
    "## Importing required libraries"
   ]
  },
  {
   "cell_type": "code",
   "execution_count": 8,
   "metadata": {},
   "outputs": [],
   "source": [
    "# Basic libraries for data handling and visualization\n",
    "import pandas as pd\n",
    "import numpy as np\n",
    "import seaborn as sns\n",
    "import matplotlib.pyplot as plt\n",
    "\n",
    "# Statistical test\n",
    "import scipy.stats as stats\n",
    "\n",
    "# Utility\n",
    "from copy import deepcopy\n",
    "\n",
    "import warnings\n",
    "warnings.filterwarnings('ignore')"
   ]
  },
  {
   "cell_type": "markdown",
   "metadata": {},
   "source": [
    "## Loading and understanding data"
   ]
  },
  {
   "cell_type": "code",
   "execution_count": 9,
   "metadata": {},
   "outputs": [
    {
     "name": "stdout",
     "output_type": "stream",
     "text": [
      "                                Date    Amount (K)\n",
      "count                          26052  26052.000000\n",
      "mean   2014-07-30 11:34:44.385075968    156.411530\n",
      "min              2013-10-04 00:00:00      1.005000\n",
      "25%              2014-03-02 00:00:00     77.120251\n",
      "50%              2014-08-02 00:00:00    153.106499\n",
      "75%              2014-12-28 00:00:00    228.050003\n",
      "max              2015-05-26 00:00:00    998.077026\n",
      "std                              NaN    103.063156\n",
      "<class 'pandas.core.frame.DataFrame'>\n",
      "RangeIndex: 26052 entries, 0 to 26051\n",
      "Data columns (total 6 columns):\n",
      " #   Column      Non-Null Count  Dtype         \n",
      "---  ------      --------------  -----         \n",
      " 0   City        26052 non-null  object        \n",
      " 1   Date        26052 non-null  datetime64[ns]\n",
      " 2   Card Type   26052 non-null  object        \n",
      " 3   Exp Type    26052 non-null  object        \n",
      " 4   Gender      26052 non-null  object        \n",
      " 5   Amount (K)  26052 non-null  float32       \n",
      "dtypes: datetime64[ns](1), float32(1), object(4)\n",
      "memory usage: 1.1+ MB\n",
      "None\n"
     ]
    }
   ],
   "source": [
    "# Load data\n",
    "df = pd.read_csv(\"D:\\\\DS Course\\\\dataset\\\\Credit_card.csv\")\n",
    "\n",
    "# Initial inspection\n",
    "df.drop('index', axis=1, inplace=True)\n",
    "df['Amount'] = df['Amount'] / 1000\n",
    "df['Amount'] = df['Amount'].astype('float32')\n",
    "df.rename(columns={'Amount': 'Amount (K)'}, inplace=True)\n",
    "df['Date'] = pd.to_datetime(df['Date'])\n",
    "\n",
    "# Dataset summary\n",
    "print(df.describe())\n",
    "print(df.info())"
   ]
  },
  {
   "cell_type": "markdown",
   "metadata": {},
   "source": [
    "##  Clean City Column & Filter Cities"
   ]
  },
  {
   "cell_type": "code",
   "execution_count": 10,
   "metadata": {},
   "outputs": [],
   "source": [
    "df['City'] = df['City'].apply(lambda x: x.split(',')[0])\n",
    "\n",
    "# Filter selected cities\n",
    "selected_cities = [\n",
    "    'Delhi', 'Greater Mumbai', 'Bengaluru', 'Ahmedabad', 'Kolkata', 'Pune', 'Chennai',\n",
    "    'Hyderabad', 'Jaipur', 'Surat', 'Indore', 'Jamalpur', 'Udaipurwati', 'Palanpur',\n",
    "    'Muzaffarpur', 'Taranagar', 'Ambikapur', 'Mundi', 'Padrauna'\n",
    "]\n",
    "df_citfilt = df[df['City'].isin(selected_cities)]\n",
    "\n",
    "# Save cleaned dataset\n",
    "df_citfilt.to_csv('D:\\\\DS Course\\\\Credit Card Data Analysis\\\\CC_Cleaned Data.csv', index=False)"
   ]
  },
  {
   "cell_type": "markdown",
   "metadata": {},
   "source": [
    "## Add Year & Filter Major Cities and the most recent data in the dataset"
   ]
  },
  {
   "cell_type": "code",
   "execution_count": 11,
   "metadata": {},
   "outputs": [],
   "source": [
    "# Focus on major metro cities\n",
    "maj_cities = ['Delhi', 'Greater Mumbai', 'Bengaluru', 'Ahmedabad', 'Kolkata', 'Pune',\n",
    "              'Chennai', 'Hyderabad', 'Jaipur', 'Surat', 'Indore']\n",
    "df_major = df[df['City'].isin(maj_cities)]\n",
    "df_major['Year of Transaction'] = df_major['Date'].dt.year.astype(int)\n",
    "\n",
    "# Focus on a specific year (e.g., 2015)\n",
    "df_major_2015 = df_major[df_major['Year of Transaction'] == 2015]"
   ]
  },
  {
   "cell_type": "markdown",
   "metadata": {},
   "source": [
    "## Chi-Square Tests for Associations"
   ]
  },
  {
   "cell_type": "code",
   "execution_count": 12,
   "metadata": {},
   "outputs": [
    {
     "name": "stdout",
     "output_type": "stream",
     "text": [
      "City: Delhi\n",
      "Gender vs Card Type - p: 0.014406413201986578\n",
      "→ Dependent\n",
      "Gender vs Exp Type - p: 0.0032564765590939308\n",
      "→ Dependent\n",
      "Card Type vs Exp Type - p: 0.8073711347632427\n",
      "→ Independent\n",
      "--------------------------------------------------\n",
      "City: Greater Mumbai\n",
      "Gender vs Card Type - p: 3.3786811179547874e-05\n",
      "→ Dependent\n",
      "Gender vs Exp Type - p: 1.0050296977112737e-08\n",
      "→ Dependent\n",
      "Card Type vs Exp Type - p: 0.7074206696656069\n",
      "→ Independent\n",
      "--------------------------------------------------\n",
      "City: Bengaluru\n",
      "Gender vs Card Type - p: 1.5464850249929327e-05\n",
      "→ Dependent\n",
      "Gender vs Exp Type - p: 4.72944684472417e-06\n",
      "→ Dependent\n",
      "Card Type vs Exp Type - p: 0.15410367642225842\n",
      "→ Independent\n",
      "--------------------------------------------------\n",
      "City: Ahmedabad\n",
      "Gender vs Card Type - p: 0.013725208534738857\n",
      "→ Dependent\n",
      "Gender vs Exp Type - p: 2.442729993770186e-07\n",
      "→ Dependent\n",
      "Card Type vs Exp Type - p: 0.820335466240427\n",
      "→ Independent\n",
      "--------------------------------------------------\n",
      "City: Pune\n",
      "Gender vs Card Type - p: 0.3406569811096716\n",
      "→ Independent\n",
      "Gender vs Exp Type - p: 0.06292990639116539\n",
      "→ Independent\n",
      "Card Type vs Exp Type - p: 0.17885472022216994\n",
      "→ Independent\n",
      "--------------------------------------------------\n",
      "City: Surat\n",
      "Gender vs Card Type - p: 0.7270855725984657\n",
      "→ Independent\n",
      "Gender vs Exp Type - p: 0.24763558199674401\n",
      "→ Independent\n",
      "Card Type vs Exp Type - p: 0.3045408133565495\n",
      "→ Independent\n",
      "--------------------------------------------------\n",
      "City: Indore\n",
      "→ Chi-square test not feasible\n",
      "→ Chi-square test not feasible\n",
      "→ Chi-square test not feasible\n",
      "--------------------------------------------------\n",
      "City: Chennai\n",
      "Gender vs Card Type - p: 0.42021925381491265\n",
      "→ Independent\n",
      "Gender vs Exp Type - p: 0.007533809907063839\n",
      "→ Dependent\n",
      "Card Type vs Exp Type - p: 0.411091036441565\n",
      "→ Independent\n",
      "--------------------------------------------------\n",
      "City: Hyderabad\n",
      "Gender vs Card Type - p: 0.3311029757632581\n",
      "→ Independent\n",
      "Gender vs Exp Type - p: 0.4643829164772656\n",
      "→ Independent\n",
      "Card Type vs Exp Type - p: 0.6718781567384319\n",
      "→ Independent\n",
      "--------------------------------------------------\n",
      "City: Kolkata\n",
      "Gender vs Card Type - p: 0.3934673342430729\n",
      "→ Independent\n",
      "Gender vs Exp Type - p: 0.21794595177545123\n",
      "→ Independent\n",
      "Card Type vs Exp Type - p: 0.5339061490206851\n",
      "→ Independent\n",
      "--------------------------------------------------\n",
      "City: Jaipur\n",
      "Gender vs Card Type - p: 0.35714955628130785\n",
      "→ Independent\n",
      "Gender vs Exp Type - p: 0.934415347971248\n",
      "→ Independent\n",
      "Card Type vs Exp Type - p: 0.028599418795871002\n",
      "→ Dependent\n",
      "--------------------------------------------------\n"
     ]
    }
   ],
   "source": [
    "# Gender vs Card Type | Gender vs Exp Type | Card Type vs Exp Type\n",
    "cits = list(df_major['City'].unique())\n",
    "pd.set_option('display.max_rows', None)\n",
    "\n",
    "for city in cits:\n",
    "    print('City:', city)\n",
    "\n",
    "    # Gender vs Card Type\n",
    "    tab1 = pd.crosstab(df_major[df_major['City'] == city]['Gender'], \n",
    "                       df_major[df_major['City'] == city]['Card Type'])\n",
    "    _, p1, _, expected1 = stats.chi2_contingency(tab1)\n",
    "    if (expected1 > 5).all():\n",
    "        print(\"Gender vs Card Type - p:\", p1)\n",
    "        print(\"→ Dependent\" if p1 < 0.05 else \"→ Independent\")\n",
    "    else:\n",
    "        print(\"→ Chi-square test not feasible\")\n",
    "    \n",
    "    # Gender vs Exp Type\n",
    "    tab2 = pd.crosstab(df_major[df_major['City'] == city]['Gender'], \n",
    "                       df_major[df_major['City'] == city]['Exp Type'])\n",
    "    _, p2, _, expected2 = stats.chi2_contingency(tab2)\n",
    "    if (expected2 > 5).all():\n",
    "        print(\"Gender vs Exp Type - p:\", p2)\n",
    "        print(\"→ Dependent\" if p2 < 0.05 else \"→ Independent\")\n",
    "    else:\n",
    "        print(\"→ Chi-square test not feasible\")\n",
    "\n",
    "    # Card Type vs Exp Type\n",
    "    tab3 = pd.crosstab(df_major[df_major['City'] == city]['Card Type'], \n",
    "                       df_major[df_major['City'] == city]['Exp Type'])\n",
    "    _, p3, _, expected3 = stats.chi2_contingency(tab3)\n",
    "    if (expected3 > 5).all():\n",
    "        print(\"Card Type vs Exp Type - p:\", p3)\n",
    "        print(\"→ Dependent\" if p3 < 0.05 else \"→ Independent\")\n",
    "    else:\n",
    "        print(\"→ Chi-square test not feasible\")\n",
    "\n",
    "    print(\"-\" * 50)"
   ]
  }
 ],
 "metadata": {
  "kernelspec": {
   "display_name": "ml_env",
   "language": "python",
   "name": "python3"
  },
  "language_info": {
   "codemirror_mode": {
    "name": "ipython",
    "version": 3
   },
   "file_extension": ".py",
   "mimetype": "text/x-python",
   "name": "python",
   "nbconvert_exporter": "python",
   "pygments_lexer": "ipython3",
   "version": "3.10.16"
  }
 },
 "nbformat": 4,
 "nbformat_minor": 2
}
